{
 "cells": [
  {
   "cell_type": "markdown",
   "metadata": {},
   "source": [
    "# Web Scraping | Extracting column data from US Census Web-site\n",
    "\n",
    "Sagar Deepakgiri Goswami | G01334430\n",
    "\n",
    "Data Analytics Engineering, George Mason University\n",
    "\n",
    "AIT 580: Analytics: Big Data to Information\n",
    "\n",
    "Dr. Harry J. Foxwell\n",
    "\n",
    "December 05, 2021"
   ]
  },
  {
   "cell_type": "markdown",
   "metadata": {},
   "source": [
    "# Initialization"
   ]
  },
  {
   "cell_type": "markdown",
   "metadata": {},
   "source": [
    "## Importing required Packages"
   ]
  },
  {
   "cell_type": "code",
   "execution_count": 1,
   "metadata": {},
   "outputs": [],
   "source": [
    "from bs4 import BeautifulSoup\n",
    "import requests\n",
    "import pandas as pd\n",
    "import numpy as np"
   ]
  },
  {
   "cell_type": "markdown",
   "metadata": {},
   "source": [
    "# Scraping Web Data"
   ]
  },
  {
   "cell_type": "markdown",
   "metadata": {},
   "source": [
    "## Scraping the table data from the url: https://api.census.gov/data/2011/acs/acs1/groups/B08301.html"
   ]
  },
  {
   "cell_type": "code",
   "execution_count": 4,
   "metadata": {},
   "outputs": [],
   "source": [
    "url = requests.get(\"https://api.census.gov/data/2011/acs/acs1/groups/B08301.html\")\n",
    "\n",
    "parsed_url = BeautifulSoup(url.text, 'html.parser')"
   ]
  },
  {
   "cell_type": "code",
   "execution_count": 14,
   "metadata": {},
   "outputs": [
    {
     "data": {
      "text/plain": [
       "bs4.BeautifulSoup"
      ]
     },
     "execution_count": 14,
     "metadata": {},
     "output_type": "execute_result"
    }
   ],
   "source": [
    "type(parsed_url)"
   ]
  },
  {
   "cell_type": "code",
   "execution_count": 11,
   "metadata": {},
   "outputs": [],
   "source": [
    "filename = \"Col_Names.csv\"\n",
    "f = open(filename, \"w\", encoding = \"utf-8\")"
   ]
  },
  {
   "cell_type": "markdown",
   "metadata": {},
   "source": [
    "## Scraping Table rows from the table"
   ]
  },
  {
   "cell_type": "code",
   "execution_count": 12,
   "metadata": {},
   "outputs": [],
   "source": [
    "for record in parsed_url.find_all('tr'):        #Pass each row in the for loop\n",
    "    \n",
    "    tbltxt = \"\"\n",
    "    for data in record.find_all('td'):          #Pass each cell data in the for loop\n",
    "        text1 =  BeautifulSoup(str(data))\n",
    "        tbltxt = tbltxt + text1.text + \",\"\n",
    "    \n",
    "    tbltxt = tbltxt[0:-1] + '\\n'\n",
    "    f.write(tbltxt)"
   ]
  },
  {
   "cell_type": "code",
   "execution_count": 13,
   "metadata": {},
   "outputs": [],
   "source": [
    "f.close()"
   ]
  }
 ],
 "metadata": {
  "interpreter": {
   "hash": "eb4eedccf4e383402850fb99c262c6ff0c361847a9ffb7afa5671da54a435c45"
  },
  "kernelspec": {
   "display_name": "Python 3.9.6 64-bit",
   "name": "python3"
  },
  "language_info": {
   "codemirror_mode": {
    "name": "ipython",
    "version": 3
   },
   "file_extension": ".py",
   "mimetype": "text/x-python",
   "name": "python",
   "nbconvert_exporter": "python",
   "pygments_lexer": "ipython3",
   "version": "3.9.6"
  },
  "orig_nbformat": 4
 },
 "nbformat": 4,
 "nbformat_minor": 2
}
