{
 "cells": [
  {
   "cell_type": "markdown",
   "metadata": {},
   "source": [
    "# Initiation"
   ]
  },
  {
   "cell_type": "markdown",
   "metadata": {},
   "source": [
    "## Imporing required packages"
   ]
  },
  {
   "cell_type": "code",
   "execution_count": 12,
   "metadata": {},
   "outputs": [],
   "source": [
    "import pandas as pd"
   ]
  },
  {
   "cell_type": "markdown",
   "metadata": {},
   "source": [
    "# Loading the Raw Data"
   ]
  },
  {
   "cell_type": "markdown",
   "metadata": {},
   "source": [
    "## Loading ACS County Dataset"
   ]
  },
  {
   "cell_type": "code",
   "execution_count": 13,
   "metadata": {},
   "outputs": [],
   "source": [
    "rawACS_County = pd.read_csv(\"ACS_County.csv\")"
   ]
  },
  {
   "cell_type": "code",
   "execution_count": 14,
   "metadata": {},
   "outputs": [
    {
     "data": {
      "text/plain": [
       "['Unnamed: 0',\n",
       " 'Year',\n",
       " 'county',\n",
       " 'state',\n",
       " 'GEO_ID',\n",
       " 'NAME',\n",
       " 'Estimate!!Total',\n",
       " 'Margin of Error!!Total',\n",
       " 'Estimate!!Total!!Car, truck, or van',\n",
       " 'Margin of Error!!Total!!Car, truck, or van',\n",
       " 'Estimate!!Total!!Car, truck, or van!!Drove alone',\n",
       " 'Margin of Error!!Total!!Car, truck, or van!!Drove alone',\n",
       " 'Estimate!!Total!!Car, truck, or van!!Carpooled',\n",
       " 'Margin of Error!!Total!!Car, truck, or van!!Carpooled',\n",
       " 'Estimate!!Total!!Car, truck, or van!!Carpooled!!In 2-person carpool',\n",
       " 'Margin of Error!!Total!!Car, truck, or van!!Carpooled!!In 2-person carpool',\n",
       " 'Estimate!!Total!!Car, truck, or van!!Carpooled!!In 3-person carpool',\n",
       " 'Margin of Error!!Total!!Car, truck, or van!!Carpooled!!In 3-person carpool',\n",
       " 'Estimate!!Total!!Car, truck, or van!!Carpooled!!In 4-person carpool',\n",
       " 'Margin of Error!!Total!!Car, truck, or van!!Carpooled!!In 4-person carpool',\n",
       " 'Estimate!!Total!!Car, truck, or van!!Carpooled!!In 5- or 6-person carpool',\n",
       " 'Margin of Error!!Total!!Car, truck, or van!!Carpooled!!In 5- or 6-person carpool',\n",
       " 'Estimate!!Total!!Car, truck, or van!!Carpooled!!In 7-or-more-person carpool',\n",
       " 'Margin of Error!!Total!!Car, truck, or van!!Carpooled!!In 7-or-more-person carpool',\n",
       " 'Estimate!!Total!!Public transportation (excluding taxicab)',\n",
       " 'Margin of Error!!Total!!Public transportation (excluding taxicab)',\n",
       " 'Estimate!!Total!!Public transportation (excluding taxicab)!!Bus or trolley bus',\n",
       " 'Margin of Error!!Total!!Public transportation (excluding taxicab)!!Bus or trolley bus',\n",
       " 'Estimate!!Total!!Public transportation (excluding taxicab)!!Streetcar or trolley car (carro publico in Puerto Rico)',\n",
       " 'Margin of Error!!Total!!Public transportation (excluding taxicab)!!Streetcar or trolley car (carro publico in Puerto Rico)',\n",
       " 'Estimate!!Total!!Public transportation (excluding taxicab)!!Subway or elevated',\n",
       " 'Margin of Error!!Total!!Public transportation (excluding taxicab)!!Subway or elevated',\n",
       " 'Estimate!!Total!!Public transportation (excluding taxicab)!!Railroad',\n",
       " 'Margin of Error!!Total!!Public transportation (excluding taxicab)!!Railroad',\n",
       " 'Estimate!!Total!!Public transportation (excluding taxicab)!!Ferryboat',\n",
       " 'Margin of Error!!Total!!Public transportation (excluding taxicab)!!Ferryboat',\n",
       " 'Estimate!!Total!!Taxicab',\n",
       " 'Margin of Error!!Total!!Taxicab',\n",
       " 'Estimate!!Total!!Motorcycle',\n",
       " 'Margin of Error!!Total!!Motorcycle',\n",
       " 'Estimate!!Total!!Bicycle',\n",
       " 'Margin of Error!!Total!!Bicycle',\n",
       " 'Estimate!!Total!!Walked',\n",
       " 'Margin of Error!!Total!!Walked',\n",
       " 'Estimate!!Total!!Other means',\n",
       " 'Margin of Error!!Total!!Other means',\n",
       " 'Estimate!!Total!!Worked at home',\n",
       " 'Annotation of Estimate!!Total',\n",
       " 'Annotation of Margin of Error!!Total',\n",
       " 'Annotation of Estimate!!Total!!Car, truck, or van',\n",
       " 'Annotation of Margin of Error!!Total!!Car, truck, or van',\n",
       " 'Annotation of Margin of Error!!Total!!Car, truck, or van!!Drove alone',\n",
       " 'Annotation of Estimate!!Total!!Car, truck, or van!!Drove alone',\n",
       " 'Annotation of Margin of Error!!Total!!Car, truck, or van!!Carpooled',\n",
       " 'Annotation of Estimate!!Total!!Car, truck, or van!!Carpooled',\n",
       " 'Annotation of Estimate!!Total!!Car, truck, or van!!Carpooled!!In 2-person carpool',\n",
       " 'Annotation of Margin of Error!!Total!!Car, truck, or van!!Carpooled!!In 2-person carpool',\n",
       " 'Annotation of Estimate!!Total!!Car, truck, or van!!Carpooled!!In 3-person carpool',\n",
       " 'Annotation of Margin of Error!!Total!!Car, truck, or van!!Carpooled!!In 3-person carpool',\n",
       " 'Annotation of Estimate!!Total!!Car, truck, or van!!Carpooled!!In 4-person carpool',\n",
       " 'Annotation of Margin of Error!!Total!!Car, truck, or van!!Carpooled!!In 4-person carpool',\n",
       " 'Annotation of Estimate!!Total!!Car, truck, or van!!Carpooled!!In 5- or 6-person carpool',\n",
       " 'Annotation of Margin of Error!!Total!!Car, truck, or van!!Carpooled!!In 5- or 6-person carpool',\n",
       " 'Annotation of Estimate!!Total!!Car, truck, or van!!Carpooled!!In 7-or-more-person carpool',\n",
       " 'Annotation of Margin of Error!!Total!!Car, truck, or van!!Carpooled!!In 7-or-more-person carpool',\n",
       " 'Annotation of Estimate!!Total!!Public transportation (excluding taxicab)',\n",
       " 'Annotation of Margin of Error!!Total!!Public transportation (excluding taxicab)',\n",
       " 'Annotation of Estimate!!Total!!Public transportation (excluding taxicab)!!Bus or trolley bus',\n",
       " 'Annotation of Margin of Error!!Total!!Public transportation (excluding taxicab)!!Bus or trolley bus',\n",
       " 'Annotation of Estimate!!Total!!Public transportation (excluding taxicab)!!Streetcar or trolley car (carro publico in Puerto Rico)',\n",
       " 'Annotation of Margin of Error!!Total!!Public transportation (excluding taxicab)!!Streetcar or trolley car (carro publico in Puerto Rico)',\n",
       " 'Annotation of Estimate!!Total!!Public transportation (excluding taxicab)!!Subway or elevated',\n",
       " 'Annotation of Margin of Error!!Total!!Public transportation (excluding taxicab)!!Subway or elevated',\n",
       " 'Annotation of Margin of Error!!Total!!Public transportation (excluding taxicab)!!Railroad',\n",
       " 'Annotation of Estimate!!Total!!Public transportation (excluding taxicab)!!Railroad',\n",
       " 'Annotation of Margin of Error!!Total!!Public transportation (excluding taxicab)!!Ferryboat',\n",
       " 'Annotation of Estimate!!Total!!Public transportation (excluding taxicab)!!Ferryboat',\n",
       " 'Annotation of Estimate!!Total!!Taxicab',\n",
       " 'Annotation of Margin of Error!!Total!!Taxicab',\n",
       " 'Annotation of Estimate!!Total!!Motorcycle',\n",
       " 'Annotation of Margin of Error!!Total!!Motorcycle',\n",
       " 'Annotation of Estimate!!Total!!Bicycle',\n",
       " 'Annotation of Margin of Error!!Total!!Bicycle',\n",
       " 'Annotation of Margin of Error!!Total!!Walked',\n",
       " 'Annotation of Estimate!!Total!!Walked',\n",
       " 'Annotation of Estimate!!Total!!Other means',\n",
       " 'Annotation of Margin of Error!!Total!!Other means',\n",
       " 'Annotation of Estimate!!Total!!Worked at home']"
      ]
     },
     "execution_count": 14,
     "metadata": {},
     "output_type": "execute_result"
    }
   ],
   "source": [
    "list(rawACS_County.columns)"
   ]
  },
  {
   "cell_type": "code",
   "execution_count": 15,
   "metadata": {},
   "outputs": [],
   "source": [
    "dfc = rawACS_County[rawACS_County.columns[1:47]]"
   ]
  },
  {
   "cell_type": "markdown",
   "metadata": {},
   "source": [
    "## Loading ACS Census Dataset"
   ]
  },
  {
   "cell_type": "code",
   "execution_count": 16,
   "metadata": {},
   "outputs": [],
   "source": [
    "rawACS = pd.read_csv(\"ACS.csv\")"
   ]
  },
  {
   "cell_type": "code",
   "execution_count": 17,
   "metadata": {},
   "outputs": [
    {
     "data": {
      "text/plain": [
       "['Unnamed: 0',\n",
       " 'Year',\n",
       " 'GEO_ID',\n",
       " 'NAME',\n",
       " 'Estimate!!Total',\n",
       " 'Annotation of Estimate!!Total',\n",
       " 'Margin of Error!!Total',\n",
       " 'Annotation of Margin of Error!!Total',\n",
       " 'Estimate!!Total!!Car, truck, or van',\n",
       " 'Annotation of Estimate!!Total!!Car, truck, or van',\n",
       " 'Margin of Error!!Total!!Car, truck, or van',\n",
       " 'Annotation of Margin of Error!!Total!!Car, truck, or van',\n",
       " 'Estimate!!Total!!Car, truck, or van!!Drove alone',\n",
       " 'Annotation of Estimate!!Total!!Car, truck, or van!!Drove alone',\n",
       " 'Margin of Error!!Total!!Car, truck, or van!!Drove alone',\n",
       " 'Annotation of Margin of Error!!Total!!Car, truck, or van!!Drove alone',\n",
       " 'Estimate!!Total!!Car, truck, or van!!Carpooled',\n",
       " 'Annotation of Estimate!!Total!!Car, truck, or van!!Carpooled',\n",
       " 'Margin of Error!!Total!!Car, truck, or van!!Carpooled',\n",
       " 'Annotation of Margin of Error!!Total!!Car, truck, or van!!Carpooled',\n",
       " 'Estimate!!Total!!Car, truck, or van!!Carpooled!!In 2-person carpool',\n",
       " 'Annotation of Estimate!!Total!!Car, truck, or van!!Carpooled!!In 2-person carpool',\n",
       " 'Margin of Error!!Total!!Car, truck, or van!!Carpooled!!In 2-person carpool',\n",
       " 'Annotation of Margin of Error!!Total!!Car, truck, or van!!Carpooled!!In 2-person carpool',\n",
       " 'Estimate!!Total!!Car, truck, or van!!Carpooled!!In 3-person carpool',\n",
       " 'Annotation of Estimate!!Total!!Car, truck, or van!!Carpooled!!In 3-person carpool',\n",
       " 'Margin of Error!!Total!!Car, truck, or van!!Carpooled!!In 3-person carpool',\n",
       " 'Annotation of Margin of Error!!Total!!Car, truck, or van!!Carpooled!!In 3-person carpool',\n",
       " 'Estimate!!Total!!Car, truck, or van!!Carpooled!!In 4-person carpool',\n",
       " 'Annotation of Estimate!!Total!!Car, truck, or van!!Carpooled!!In 4-person carpool',\n",
       " 'Margin of Error!!Total!!Car, truck, or van!!Carpooled!!In 4-person carpool',\n",
       " 'Annotation of Margin of Error!!Total!!Car, truck, or van!!Carpooled!!In 4-person carpool',\n",
       " 'Estimate!!Total!!Car, truck, or van!!Carpooled!!In 5- or 6-person carpool',\n",
       " 'Annotation of Estimate!!Total!!Car, truck, or van!!Carpooled!!In 5- or 6-person carpool',\n",
       " 'Margin of Error!!Total!!Car, truck, or van!!Carpooled!!In 5- or 6-person carpool',\n",
       " 'Annotation of Margin of Error!!Total!!Car, truck, or van!!Carpooled!!In 5- or 6-person carpool',\n",
       " 'Estimate!!Total!!Car, truck, or van!!Carpooled!!In 7-or-more-person carpool',\n",
       " 'Annotation of Estimate!!Total!!Car, truck, or van!!Carpooled!!In 7-or-more-person carpool',\n",
       " 'Margin of Error!!Total!!Car, truck, or van!!Carpooled!!In 7-or-more-person carpool',\n",
       " 'Annotation of Margin of Error!!Total!!Car, truck, or van!!Carpooled!!In 7-or-more-person carpool',\n",
       " 'Estimate!!Total!!Public transportation (excluding taxicab)',\n",
       " 'Annotation of Estimate!!Total!!Public transportation (excluding taxicab)',\n",
       " 'Margin of Error!!Total!!Public transportation (excluding taxicab)',\n",
       " 'Annotation of Margin of Error!!Total!!Public transportation (excluding taxicab)',\n",
       " 'Estimate!!Total!!Public transportation (excluding taxicab)!!Bus or trolley bus',\n",
       " 'Annotation of Estimate!!Total!!Public transportation (excluding taxicab)!!Bus or trolley bus',\n",
       " 'Margin of Error!!Total!!Public transportation (excluding taxicab)!!Bus or trolley bus',\n",
       " 'Annotation of Margin of Error!!Total!!Public transportation (excluding taxicab)!!Bus or trolley bus',\n",
       " 'Estimate!!Total!!Public transportation (excluding taxicab)!!Streetcar or trolley car (carro publico in Puerto Rico)',\n",
       " 'Annotation of Estimate!!Total!!Public transportation (excluding taxicab)!!Streetcar or trolley car (carro publico in Puerto Rico)',\n",
       " 'Margin of Error!!Total!!Public transportation (excluding taxicab)!!Streetcar or trolley car (carro publico in Puerto Rico)',\n",
       " 'Annotation of Margin of Error!!Total!!Public transportation (excluding taxicab)!!Streetcar or trolley car (carro publico in Puerto Rico)',\n",
       " 'Estimate!!Total!!Public transportation (excluding taxicab)!!Subway or elevated',\n",
       " 'Annotation of Estimate!!Total!!Public transportation (excluding taxicab)!!Subway or elevated',\n",
       " 'Margin of Error!!Total!!Public transportation (excluding taxicab)!!Subway or elevated',\n",
       " 'Annotation of Margin of Error!!Total!!Public transportation (excluding taxicab)!!Subway or elevated',\n",
       " 'Estimate!!Total!!Public transportation (excluding taxicab)!!Railroad',\n",
       " 'Annotation of Estimate!!Total!!Public transportation (excluding taxicab)!!Railroad',\n",
       " 'Margin of Error!!Total!!Public transportation (excluding taxicab)!!Railroad',\n",
       " 'Annotation of Margin of Error!!Total!!Public transportation (excluding taxicab)!!Railroad',\n",
       " 'Estimate!!Total!!Public transportation (excluding taxicab)!!Ferryboat',\n",
       " 'Annotation of Estimate!!Total!!Public transportation (excluding taxicab)!!Ferryboat',\n",
       " 'Margin of Error!!Total!!Public transportation (excluding taxicab)!!Ferryboat',\n",
       " 'Annotation of Margin of Error!!Total!!Public transportation (excluding taxicab)!!Ferryboat',\n",
       " 'Estimate!!Total!!Taxicab',\n",
       " 'Annotation of Estimate!!Total!!Taxicab',\n",
       " 'Margin of Error!!Total!!Taxicab',\n",
       " 'Annotation of Margin of Error!!Total!!Taxicab',\n",
       " 'Estimate!!Total!!Motorcycle',\n",
       " 'Annotation of Estimate!!Total!!Motorcycle',\n",
       " 'Margin of Error!!Total!!Motorcycle',\n",
       " 'Annotation of Margin of Error!!Total!!Motorcycle',\n",
       " 'Estimate!!Total!!Bicycle',\n",
       " 'Annotation of Estimate!!Total!!Bicycle',\n",
       " 'Margin of Error!!Total!!Bicycle',\n",
       " 'Annotation of Margin of Error!!Total!!Bicycle',\n",
       " 'Estimate!!Total!!Walked',\n",
       " 'Annotation of Estimate!!Total!!Walked',\n",
       " 'Margin of Error!!Total!!Walked',\n",
       " 'Annotation of Margin of Error!!Total!!Walked',\n",
       " 'Estimate!!Total!!Other means',\n",
       " 'Annotation of Estimate!!Total!!Other means',\n",
       " 'Margin of Error!!Total!!Other means',\n",
       " 'Annotation of Margin of Error!!Total!!Other means',\n",
       " 'Estimate!!Total!!Worked at home',\n",
       " 'Annotation of Estimate!!Total!!Worked at home',\n",
       " 'Margin of Error!!Total!!Worked at home',\n",
       " 'Annotation of Margin of Error!!Total!!Worked at home']"
      ]
     },
     "execution_count": 17,
     "metadata": {},
     "output_type": "execute_result"
    }
   ],
   "source": [
    "list(rawACS.columns)"
   ]
  },
  {
   "cell_type": "code",
   "execution_count": 18,
   "metadata": {},
   "outputs": [],
   "source": [
    "j = [1,2,3]\n",
    "for i in range(2,44):\n",
    "    j.append(2*i)\n",
    "\n",
    "df =  rawACS[rawACS.columns[j]]"
   ]
  },
  {
   "cell_type": "markdown",
   "metadata": {},
   "source": [
    "# Data Cleaning"
   ]
  },
  {
   "cell_type": "markdown",
   "metadata": {},
   "source": [
    "## Cleaning ACS County Dataset"
   ]
  },
  {
   "cell_type": "code",
   "execution_count": 19,
   "metadata": {},
   "outputs": [],
   "source": [
    "# Removing Empty Records\n",
    "dfc = dfc.dropna()"
   ]
  },
  {
   "cell_type": "code",
   "execution_count": 20,
   "metadata": {},
   "outputs": [],
   "source": [
    "# Converting the data into appropriate datatype\n",
    "dfc.iloc[:,5:] = dfc.iloc[:,5:].apply(pd.to_numeric, downcast='integer')"
   ]
  },
  {
   "cell_type": "code",
   "execution_count": 21,
   "metadata": {},
   "outputs": [],
   "source": [
    "dfc[dfc.columns[1:5]] = dfc[dfc.columns[1:5]].astype(str)"
   ]
  },
  {
   "cell_type": "code",
   "execution_count": 22,
   "metadata": {},
   "outputs": [
    {
     "name": "stdout",
     "output_type": "stream",
     "text": [
      "<class 'pandas.core.frame.DataFrame'>\n",
      "Int64Index: 3588 entries, 0 to 7006\n",
      "Data columns (total 46 columns):\n",
      " #   Column                                                                                                                      Non-Null Count  Dtype \n",
      "---  ------                                                                                                                      --------------  ----- \n",
      " 0   Year                                                                                                                        3588 non-null   int64 \n",
      " 1   county                                                                                                                      3588 non-null   object\n",
      " 2   state                                                                                                                       3588 non-null   object\n",
      " 3   GEO_ID                                                                                                                      3588 non-null   object\n",
      " 4   NAME                                                                                                                        3588 non-null   object\n",
      " 5   Estimate!!Total                                                                                                             3588 non-null   int32 \n",
      " 6   Margin of Error!!Total                                                                                                      3588 non-null   int16 \n",
      " 7   Estimate!!Total!!Car, truck, or van                                                                                         3588 non-null   int32 \n",
      " 8   Margin of Error!!Total!!Car, truck, or van                                                                                  3588 non-null   int16 \n",
      " 9   Estimate!!Total!!Car, truck, or van!!Drove alone                                                                            3588 non-null   int32 \n",
      " 10  Margin of Error!!Total!!Car, truck, or van!!Drove alone                                                                     3588 non-null   int16 \n",
      " 11  Estimate!!Total!!Car, truck, or van!!Carpooled                                                                              3588 non-null   int32 \n",
      " 12  Margin of Error!!Total!!Car, truck, or van!!Carpooled                                                                       3588 non-null   int16 \n",
      " 13  Estimate!!Total!!Car, truck, or van!!Carpooled!!In 2-person carpool                                                         3588 non-null   int32 \n",
      " 14  Margin of Error!!Total!!Car, truck, or van!!Carpooled!!In 2-person carpool                                                  3588 non-null   int16 \n",
      " 15  Estimate!!Total!!Car, truck, or van!!Carpooled!!In 3-person carpool                                                         3588 non-null   int32 \n",
      " 16  Margin of Error!!Total!!Car, truck, or van!!Carpooled!!In 3-person carpool                                                  3588 non-null   int16 \n",
      " 17  Estimate!!Total!!Car, truck, or van!!Carpooled!!In 4-person carpool                                                         3588 non-null   int16 \n",
      " 18  Margin of Error!!Total!!Car, truck, or van!!Carpooled!!In 4-person carpool                                                  3588 non-null   int16 \n",
      " 19  Estimate!!Total!!Car, truck, or van!!Carpooled!!In 5- or 6-person carpool                                                   3588 non-null   int16 \n",
      " 20  Margin of Error!!Total!!Car, truck, or van!!Carpooled!!In 5- or 6-person carpool                                            3588 non-null   int16 \n",
      " 21  Estimate!!Total!!Car, truck, or van!!Carpooled!!In 7-or-more-person carpool                                                 3588 non-null   int16 \n",
      " 22  Margin of Error!!Total!!Car, truck, or van!!Carpooled!!In 7-or-more-person carpool                                          3588 non-null   int16 \n",
      " 23  Estimate!!Total!!Public transportation (excluding taxicab)                                                                  3588 non-null   int32 \n",
      " 24  Margin of Error!!Total!!Public transportation (excluding taxicab)                                                           3588 non-null   int16 \n",
      " 25  Estimate!!Total!!Public transportation (excluding taxicab)!!Bus or trolley bus                                              3588 non-null   int32 \n",
      " 26  Margin of Error!!Total!!Public transportation (excluding taxicab)!!Bus or trolley bus                                       3588 non-null   int16 \n",
      " 27  Estimate!!Total!!Public transportation (excluding taxicab)!!Streetcar or trolley car (carro publico in Puerto Rico)         3588 non-null   int32 \n",
      " 28  Margin of Error!!Total!!Public transportation (excluding taxicab)!!Streetcar or trolley car (carro publico in Puerto Rico)  3588 non-null   int16 \n",
      " 29  Estimate!!Total!!Public transportation (excluding taxicab)!!Subway or elevated                                              3588 non-null   int32 \n",
      " 30  Margin of Error!!Total!!Public transportation (excluding taxicab)!!Subway or elevated                                       3588 non-null   int16 \n",
      " 31  Estimate!!Total!!Public transportation (excluding taxicab)!!Railroad                                                        3588 non-null   int32 \n",
      " 32  Margin of Error!!Total!!Public transportation (excluding taxicab)!!Railroad                                                 3588 non-null   int16 \n",
      " 33  Estimate!!Total!!Public transportation (excluding taxicab)!!Ferryboat                                                       3588 non-null   int16 \n",
      " 34  Margin of Error!!Total!!Public transportation (excluding taxicab)!!Ferryboat                                                3588 non-null   int16 \n",
      " 35  Estimate!!Total!!Taxicab                                                                                                    3588 non-null   int16 \n",
      " 36  Margin of Error!!Total!!Taxicab                                                                                             3588 non-null   int16 \n",
      " 37  Estimate!!Total!!Motorcycle                                                                                                 3588 non-null   int16 \n",
      " 38  Margin of Error!!Total!!Motorcycle                                                                                          3588 non-null   int16 \n",
      " 39  Estimate!!Total!!Bicycle                                                                                                    3588 non-null   int32 \n",
      " 40  Margin of Error!!Total!!Bicycle                                                                                             3588 non-null   int16 \n",
      " 41  Estimate!!Total!!Walked                                                                                                     3588 non-null   int32 \n",
      " 42  Margin of Error!!Total!!Walked                                                                                              3588 non-null   int16 \n",
      " 43  Estimate!!Total!!Other means                                                                                                3588 non-null   int32 \n",
      " 44  Margin of Error!!Total!!Other means                                                                                         3588 non-null   int16 \n",
      " 45  Estimate!!Total!!Worked at home                                                                                             3588 non-null   int32 \n",
      "dtypes: int16(26), int32(15), int64(1), object(4)\n",
      "memory usage: 560.6+ KB\n"
     ]
    }
   ],
   "source": [
    "dfc.info()"
   ]
  },
  {
   "cell_type": "markdown",
   "metadata": {},
   "source": [
    "## Cleaning ACS Census Tract Dataset"
   ]
  },
  {
   "cell_type": "code",
   "execution_count": 23,
   "metadata": {},
   "outputs": [],
   "source": [
    "df = df.dropna()"
   ]
  },
  {
   "cell_type": "code",
   "execution_count": 24,
   "metadata": {},
   "outputs": [],
   "source": [
    "# Converting the data into appropriate datatype\n",
    "df.iloc[:,3:] = df.iloc[:,3:].apply(pd.to_numeric, downcast='integer')"
   ]
  },
  {
   "cell_type": "code",
   "execution_count": 25,
   "metadata": {},
   "outputs": [],
   "source": [
    " df[df.columns[1:3]] = df[df.columns[1:3]].astype(str)"
   ]
  },
  {
   "cell_type": "code",
   "execution_count": 26,
   "metadata": {},
   "outputs": [
    {
     "name": "stdout",
     "output_type": "stream",
     "text": [
      "<class 'pandas.core.frame.DataFrame'>\n",
      "Int64Index: 14133 entries, 0 to 28942\n",
      "Data columns (total 45 columns):\n",
      " #   Column                                                                                                                      Non-Null Count  Dtype \n",
      "---  ------                                                                                                                      --------------  ----- \n",
      " 0   Year                                                                                                                        14133 non-null  int64 \n",
      " 1   GEO_ID                                                                                                                      14133 non-null  object\n",
      " 2   NAME                                                                                                                        14133 non-null  object\n",
      " 3   Estimate!!Total                                                                                                             14133 non-null  int32 \n",
      " 4   Margin of Error!!Total                                                                                                      14133 non-null  int32 \n",
      " 5   Estimate!!Total!!Car, truck, or van                                                                                         14133 non-null  int32 \n",
      " 6   Margin of Error!!Total!!Car, truck, or van                                                                                  14133 non-null  int32 \n",
      " 7   Estimate!!Total!!Car, truck, or van!!Drove alone                                                                            14133 non-null  int32 \n",
      " 8   Margin of Error!!Total!!Car, truck, or van!!Drove alone                                                                     14133 non-null  int32 \n",
      " 9   Estimate!!Total!!Car, truck, or van!!Carpooled                                                                              14133 non-null  int32 \n",
      " 10  Margin of Error!!Total!!Car, truck, or van!!Carpooled                                                                       14133 non-null  int32 \n",
      " 11  Estimate!!Total!!Car, truck, or van!!Carpooled!!In 2-person carpool                                                         14133 non-null  int32 \n",
      " 12  Margin of Error!!Total!!Car, truck, or van!!Carpooled!!In 2-person carpool                                                  14133 non-null  int32 \n",
      " 13  Estimate!!Total!!Car, truck, or van!!Carpooled!!In 3-person carpool                                                         14133 non-null  int32 \n",
      " 14  Margin of Error!!Total!!Car, truck, or van!!Carpooled!!In 3-person carpool                                                  14133 non-null  int32 \n",
      " 15  Estimate!!Total!!Car, truck, or van!!Carpooled!!In 4-person carpool                                                         14133 non-null  int32 \n",
      " 16  Margin of Error!!Total!!Car, truck, or van!!Carpooled!!In 4-person carpool                                                  14133 non-null  int16 \n",
      " 17  Estimate!!Total!!Car, truck, or van!!Carpooled!!In 5- or 6-person carpool                                                   14133 non-null  int32 \n",
      " 18  Margin of Error!!Total!!Car, truck, or van!!Carpooled!!In 5- or 6-person carpool                                            14133 non-null  int16 \n",
      " 19  Estimate!!Total!!Car, truck, or van!!Carpooled!!In 7-or-more-person carpool                                                 14133 non-null  int32 \n",
      " 20  Margin of Error!!Total!!Car, truck, or van!!Carpooled!!In 7-or-more-person carpool                                          14133 non-null  int16 \n",
      " 21  Estimate!!Total!!Public transportation (excluding taxicab)                                                                  14133 non-null  int32 \n",
      " 22  Margin of Error!!Total!!Public transportation (excluding taxicab)                                                           14133 non-null  int32 \n",
      " 23  Estimate!!Total!!Public transportation (excluding taxicab)!!Bus or trolley bus                                              14133 non-null  int32 \n",
      " 24  Margin of Error!!Total!!Public transportation (excluding taxicab)!!Bus or trolley bus                                       14133 non-null  int32 \n",
      " 25  Estimate!!Total!!Public transportation (excluding taxicab)!!Streetcar or trolley car (carro publico in Puerto Rico)         14133 non-null  int32 \n",
      " 26  Margin of Error!!Total!!Public transportation (excluding taxicab)!!Streetcar or trolley car (carro publico in Puerto Rico)  14133 non-null  int16 \n",
      " 27  Estimate!!Total!!Public transportation (excluding taxicab)!!Subway or elevated                                              14133 non-null  int32 \n",
      " 28  Margin of Error!!Total!!Public transportation (excluding taxicab)!!Subway or elevated                                       14133 non-null  int16 \n",
      " 29  Estimate!!Total!!Public transportation (excluding taxicab)!!Railroad                                                        14133 non-null  int32 \n",
      " 30  Margin of Error!!Total!!Public transportation (excluding taxicab)!!Railroad                                                 14133 non-null  int16 \n",
      " 31  Estimate!!Total!!Public transportation (excluding taxicab)!!Ferryboat                                                       14133 non-null  int32 \n",
      " 32  Margin of Error!!Total!!Public transportation (excluding taxicab)!!Ferryboat                                                14133 non-null  int16 \n",
      " 33  Estimate!!Total!!Taxicab                                                                                                    14133 non-null  int32 \n",
      " 34  Margin of Error!!Total!!Taxicab                                                                                             14133 non-null  int16 \n",
      " 35  Estimate!!Total!!Motorcycle                                                                                                 14133 non-null  int32 \n",
      " 36  Margin of Error!!Total!!Motorcycle                                                                                          14133 non-null  int16 \n",
      " 37  Estimate!!Total!!Bicycle                                                                                                    14133 non-null  int32 \n",
      " 38  Margin of Error!!Total!!Bicycle                                                                                             14133 non-null  int16 \n",
      " 39  Estimate!!Total!!Walked                                                                                                     14133 non-null  int32 \n",
      " 40  Margin of Error!!Total!!Walked                                                                                              14133 non-null  int32 \n",
      " 41  Estimate!!Total!!Other means                                                                                                14133 non-null  int32 \n",
      " 42  Margin of Error!!Total!!Other means                                                                                         14133 non-null  int16 \n",
      " 43  Estimate!!Total!!Worked at home                                                                                             14133 non-null  int32 \n",
      " 44  Margin of Error!!Total!!Worked at home                                                                                      14133 non-null  int32 \n",
      "dtypes: int16(11), int32(31), int64(1), object(2)\n",
      "memory usage: 2.4+ MB\n"
     ]
    }
   ],
   "source": [
    "df.info()"
   ]
  },
  {
   "cell_type": "markdown",
   "metadata": {},
   "source": [
    "# Data Wrangling"
   ]
  },
  {
   "cell_type": "markdown",
   "metadata": {},
   "source": [
    "## Manipulating ACS County Dataset to bring in appropriate form for analysis"
   ]
  },
  {
   "cell_type": "code",
   "execution_count": 27,
   "metadata": {},
   "outputs": [],
   "source": [
    "# Separating the \"NAME\" column into \"CountyName\" and \"State\"\n",
    "dfc[[\"CountyName\", \"StateName\"]] = dfc[\"NAME\"].str.split(',', expand = True)"
   ]
  },
  {
   "cell_type": "code",
   "execution_count": 28,
   "metadata": {},
   "outputs": [],
   "source": [
    "# Rearranging the columns\n",
    "j = [0,1,2,3,4,46,47]\n",
    "for i in range(5,46):\n",
    "    j.append(i)\n",
    "\n",
    "dfc = dfc[dfc.columns[j]]"
   ]
  },
  {
   "cell_type": "markdown",
   "metadata": {},
   "source": [
    "# Exporting Clean Data for Analysis"
   ]
  },
  {
   "cell_type": "code",
   "execution_count": 29,
   "metadata": {},
   "outputs": [
    {
     "data": {
      "text/plain": [
       "'c:\\\\Users\\\\sgoswam\\\\Desktop\\\\MoT Project\\\\Cleaned_Data\\\\'"
      ]
     },
     "execution_count": 29,
     "metadata": {},
     "output_type": "execute_result"
    }
   ],
   "source": [
    "path = os.getcwd()\n",
    "path = path[:-18] + \"Cleaned_Data\\\\\"\n",
    "path"
   ]
  },
  {
   "cell_type": "code",
   "execution_count": 34,
   "metadata": {},
   "outputs": [],
   "source": [
    "dfc.to_csv(\"ACSCountyCleaned.csv\", index=False)"
   ]
  },
  {
   "cell_type": "code",
   "execution_count": 35,
   "metadata": {},
   "outputs": [],
   "source": [
    "df.to_csv(\"ACSCleaned.csv\", index=False)"
   ]
  }
 ],
 "metadata": {
  "interpreter": {
   "hash": "eb4eedccf4e383402850fb99c262c6ff0c361847a9ffb7afa5671da54a435c45"
  },
  "kernelspec": {
   "display_name": "Python 3.9.6 64-bit",
   "language": "python",
   "name": "python3"
  },
  "language_info": {
   "codemirror_mode": {
    "name": "ipython",
    "version": 3
   },
   "file_extension": ".py",
   "mimetype": "text/x-python",
   "name": "python",
   "nbconvert_exporter": "python",
   "pygments_lexer": "ipython3",
   "version": "3.9.6"
  },
  "orig_nbformat": 4
 },
 "nbformat": 4,
 "nbformat_minor": 2
}
